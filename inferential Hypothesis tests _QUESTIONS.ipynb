{
 "cells": [
  {
   "cell_type": "markdown",
   "id": "fe773044",
   "metadata": {},
   "source": [
    "### one sample z test"
   ]
  },
  {
   "cell_type": "code",
   "execution_count": 1,
   "id": "ca493d85",
   "metadata": {},
   "outputs": [
    {
     "data": {
      "text/html": [
       "<div>\n",
       "<style scoped>\n",
       "    .dataframe tbody tr th:only-of-type {\n",
       "        vertical-align: middle;\n",
       "    }\n",
       "\n",
       "    .dataframe tbody tr th {\n",
       "        vertical-align: top;\n",
       "    }\n",
       "\n",
       "    .dataframe thead th {\n",
       "        text-align: right;\n",
       "    }\n",
       "</style>\n",
       "<table border=\"1\" class=\"dataframe\">\n",
       "  <thead>\n",
       "    <tr style=\"text-align: right;\">\n",
       "      <th></th>\n",
       "      <th>patient</th>\n",
       "      <th>sex</th>\n",
       "      <th>agegrp</th>\n",
       "      <th>bp_before</th>\n",
       "      <th>bp_after</th>\n",
       "    </tr>\n",
       "  </thead>\n",
       "  <tbody>\n",
       "    <tr>\n",
       "      <th>0</th>\n",
       "      <td>1</td>\n",
       "      <td>Male</td>\n",
       "      <td>30-45</td>\n",
       "      <td>143</td>\n",
       "      <td>153</td>\n",
       "    </tr>\n",
       "    <tr>\n",
       "      <th>1</th>\n",
       "      <td>2</td>\n",
       "      <td>Male</td>\n",
       "      <td>30-45</td>\n",
       "      <td>163</td>\n",
       "      <td>170</td>\n",
       "    </tr>\n",
       "    <tr>\n",
       "      <th>2</th>\n",
       "      <td>3</td>\n",
       "      <td>Male</td>\n",
       "      <td>30-45</td>\n",
       "      <td>153</td>\n",
       "      <td>168</td>\n",
       "    </tr>\n",
       "    <tr>\n",
       "      <th>3</th>\n",
       "      <td>4</td>\n",
       "      <td>Male</td>\n",
       "      <td>30-45</td>\n",
       "      <td>153</td>\n",
       "      <td>142</td>\n",
       "    </tr>\n",
       "    <tr>\n",
       "      <th>4</th>\n",
       "      <td>5</td>\n",
       "      <td>Male</td>\n",
       "      <td>30-45</td>\n",
       "      <td>146</td>\n",
       "      <td>141</td>\n",
       "    </tr>\n",
       "    <tr>\n",
       "      <th>...</th>\n",
       "      <td>...</td>\n",
       "      <td>...</td>\n",
       "      <td>...</td>\n",
       "      <td>...</td>\n",
       "      <td>...</td>\n",
       "    </tr>\n",
       "    <tr>\n",
       "      <th>115</th>\n",
       "      <td>116</td>\n",
       "      <td>Female</td>\n",
       "      <td>60+</td>\n",
       "      <td>152</td>\n",
       "      <td>152</td>\n",
       "    </tr>\n",
       "    <tr>\n",
       "      <th>116</th>\n",
       "      <td>117</td>\n",
       "      <td>Female</td>\n",
       "      <td>60+</td>\n",
       "      <td>161</td>\n",
       "      <td>152</td>\n",
       "    </tr>\n",
       "    <tr>\n",
       "      <th>117</th>\n",
       "      <td>118</td>\n",
       "      <td>Female</td>\n",
       "      <td>60+</td>\n",
       "      <td>165</td>\n",
       "      <td>174</td>\n",
       "    </tr>\n",
       "    <tr>\n",
       "      <th>118</th>\n",
       "      <td>119</td>\n",
       "      <td>Female</td>\n",
       "      <td>60+</td>\n",
       "      <td>149</td>\n",
       "      <td>151</td>\n",
       "    </tr>\n",
       "    <tr>\n",
       "      <th>119</th>\n",
       "      <td>120</td>\n",
       "      <td>Female</td>\n",
       "      <td>60+</td>\n",
       "      <td>185</td>\n",
       "      <td>163</td>\n",
       "    </tr>\n",
       "  </tbody>\n",
       "</table>\n",
       "<p>120 rows × 5 columns</p>\n",
       "</div>"
      ],
      "text/plain": [
       "     patient     sex agegrp  bp_before  bp_after\n",
       "0          1    Male  30-45        143       153\n",
       "1          2    Male  30-45        163       170\n",
       "2          3    Male  30-45        153       168\n",
       "3          4    Male  30-45        153       142\n",
       "4          5    Male  30-45        146       141\n",
       "..       ...     ...    ...        ...       ...\n",
       "115      116  Female    60+        152       152\n",
       "116      117  Female    60+        161       152\n",
       "117      118  Female    60+        165       174\n",
       "118      119  Female    60+        149       151\n",
       "119      120  Female    60+        185       163\n",
       "\n",
       "[120 rows x 5 columns]"
      ]
     },
     "execution_count": 1,
     "metadata": {},
     "output_type": "execute_result"
    }
   ],
   "source": [
    "import pandas as pd\n",
    "import numpy as np\n",
    "import scipy.stats\n",
    "import matplotlib.pyplot as plt\n",
    "df=pd.read_csv(\"D:\\python_datascience\\data sets\\\\bloodpressure.csv\")\n",
    "df"
   ]
  },
  {
   "cell_type": "code",
   "execution_count": 2,
   "id": "ed9db17a",
   "metadata": {},
   "outputs": [
    {
     "data": {
      "text/plain": [
       "(120, 5)"
      ]
     },
     "execution_count": 2,
     "metadata": {},
     "output_type": "execute_result"
    }
   ],
   "source": [
    "df.shape"
   ]
  },
  {
   "cell_type": "code",
   "execution_count": 3,
   "id": "a9763606",
   "metadata": {},
   "outputs": [
    {
     "data": {
      "text/plain": [
       "156.45"
      ]
     },
     "execution_count": 3,
     "metadata": {},
     "output_type": "execute_result"
    }
   ],
   "source": [
    "polulation_mean=df[\"bp_before\"].mean()  ## taking population as bp_before\n",
    "polulation_mean"
   ]
  },
  {
   "cell_type": "code",
   "execution_count": 4,
   "id": "c91cff12",
   "metadata": {},
   "outputs": [
    {
     "data": {
      "text/plain": [
       "0     143\n",
       "1     163\n",
       "2     153\n",
       "3     153\n",
       "4     146\n",
       "5     150\n",
       "6     148\n",
       "7     153\n",
       "8     153\n",
       "9     158\n",
       "10    149\n",
       "11    173\n",
       "12    165\n",
       "13    145\n",
       "14    143\n",
       "15    152\n",
       "16    141\n",
       "17    176\n",
       "18    143\n",
       "19    162\n",
       "20    149\n",
       "21    156\n",
       "22    151\n",
       "23    159\n",
       "24    164\n",
       "25    154\n",
       "26    152\n",
       "27    142\n",
       "28    162\n",
       "29    155\n",
       "30    175\n",
       "31    184\n",
       "32    167\n",
       "33    148\n",
       "34    170\n",
       "35    159\n",
       "36    149\n",
       "37    140\n",
       "38    185\n",
       "39    160\n",
       "Name: bp_before, dtype: int64"
      ]
     },
     "execution_count": 4,
     "metadata": {},
     "output_type": "execute_result"
    }
   ],
   "source": [
    "s1=df[\"bp_before\"][0:40]  ## taking one sample =s1\n",
    "s1"
   ]
  },
  {
   "cell_type": "code",
   "execution_count": 5,
   "id": "03f1f992",
   "metadata": {},
   "outputs": [
    {
     "data": {
      "text/plain": [
       "156.25"
      ]
     },
     "execution_count": 5,
     "metadata": {},
     "output_type": "execute_result"
    }
   ],
   "source": [
    "s1.mean() ### calculating sample mean "
   ]
  },
  {
   "cell_type": "code",
   "execution_count": 6,
   "id": "14cb06c3",
   "metadata": {},
   "outputs": [
    {
     "data": {
      "text/plain": [
       "11.443842818806035"
      ]
     },
     "execution_count": 6,
     "metadata": {},
     "output_type": "execute_result"
    }
   ],
   "source": [
    "s1.std() ### calculating sample standard deviation "
   ]
  },
  {
   "cell_type": "code",
   "execution_count": 7,
   "id": "115fa815",
   "metadata": {},
   "outputs": [],
   "source": [
    "#pip install statsmodels"
   ]
  },
  {
   "cell_type": "code",
   "execution_count": 8,
   "id": "ba1e44c3",
   "metadata": {},
   "outputs": [],
   "source": [
    "# Note : execute this command pip install statsmodels and then comment it out then re run all cells"
   ]
  },
  {
   "cell_type": "code",
   "execution_count": 9,
   "id": "5de8e2ea",
   "metadata": {},
   "outputs": [],
   "source": [
    "from statsmodels.stats.weightstats import ztest"
   ]
  },
  {
   "cell_type": "code",
   "execution_count": 10,
   "id": "5140f521",
   "metadata": {},
   "outputs": [
    {
     "name": "stdout",
     "output_type": "stream",
     "text": [
      "Help on function ztest in module statsmodels.stats.weightstats:\n",
      "\n",
      "ztest(x1, x2=None, value=0, alternative='two-sided', usevar='pooled', ddof=1.0)\n",
      "    test for mean based on normal distribution, one or two samples\n",
      "    \n",
      "    In the case of two samples, the samples are assumed to be independent.\n",
      "    \n",
      "    Parameters\n",
      "    ----------\n",
      "    x1 : array_like, 1-D or 2-D\n",
      "        first of the two independent samples\n",
      "    x2 : array_like, 1-D or 2-D\n",
      "        second of the two independent samples\n",
      "    value : float\n",
      "        In the one sample case, value is the mean of x1 under the Null\n",
      "        hypothesis.\n",
      "        In the two sample case, value is the difference between mean of x1 and\n",
      "        mean of x2 under the Null hypothesis. The test statistic is\n",
      "        `x1_mean - x2_mean - value`.\n",
      "    alternative : str\n",
      "        The alternative hypothesis, H1, has to be one of the following\n",
      "    \n",
      "           'two-sided': H1: difference in means not equal to value (default)\n",
      "           'larger' :   H1: difference in means larger than value\n",
      "           'smaller' :  H1: difference in means smaller than value\n",
      "    \n",
      "    usevar : str, 'pooled'\n",
      "        Currently, only 'pooled' is implemented.\n",
      "        If ``pooled``, then the standard deviation of the samples is assumed to be\n",
      "        the same. see CompareMeans.ztest_ind for different options.\n",
      "    ddof : int\n",
      "        Degrees of freedom use in the calculation of the variance of the mean\n",
      "        estimate. In the case of comparing means this is one, however it can\n",
      "        be adjusted for testing other statistics (proportion, correlation)\n",
      "    \n",
      "    Returns\n",
      "    -------\n",
      "    tstat : float\n",
      "        test statistic\n",
      "    pvalue : float\n",
      "        pvalue of the t-test\n",
      "    \n",
      "    Notes\n",
      "    -----\n",
      "    usevar not implemented, is always pooled in two sample case\n",
      "    use CompareMeans instead.\n",
      "\n"
     ]
    }
   ],
   "source": [
    "help(ztest)"
   ]
  },
  {
   "cell_type": "markdown",
   "id": "326bc70b",
   "metadata": {},
   "source": [
    "#### one sample z test \n",
    "\n",
    "Let  \n",
    "     \n",
    "     Ho: sample mean is equal to population mean\n",
    "\n",
    "     Ha: sample mean is not equal to population mean"
   ]
  },
  {
   "cell_type": "code",
   "execution_count": 11,
   "id": "914c9053",
   "metadata": {},
   "outputs": [
    {
     "name": "stdout",
     "output_type": "stream",
     "text": [
      "0.890109995889419 0.1381650250810727\n",
      "accept null hypothesis\n"
     ]
    }
   ],
   "source": [
    "### two tail test\n",
    "\n",
    "\n",
    "zcal,pval=ztest(s1,value=156,alternative=\"two-sided\")## two-sided  means two tail\n",
    "print(pval,zcal)\n",
    "if pval<0.05:\n",
    "    print(\"reject null hypothesis\")\n",
    "else:\n",
    "    print(\"accept null hypothesis\")"
   ]
  },
  {
   "cell_type": "markdown",
   "id": "59f754b0",
   "metadata": {},
   "source": [
    "### means sample mean is equal to population mean"
   ]
  },
  {
   "cell_type": "markdown",
   "id": "9b89a719",
   "metadata": {},
   "source": [
    "#### one sample z test \n",
    "\n",
    "Let  \n",
    "     \n",
    "     Ho:  population mean =156 = sample mean\n",
    "\n",
    "     Ha:  population mean> 156"
   ]
  },
  {
   "cell_type": "code",
   "execution_count": 12,
   "id": "838e669c",
   "metadata": {},
   "outputs": [
    {
     "name": "stdout",
     "output_type": "stream",
     "text": [
      "0.4450549979447095 0.1381650250810727\n",
      "accept null hypothesis\n"
     ]
    }
   ],
   "source": [
    "### right tail\n",
    "zcal,pval=ztest(s1,value=156,alternative=\"larger\")## larger means right  tail, value is population mean which we set for null hypothesis\n",
    "print(pval,zcal)\n",
    "if pval<0.05:\n",
    "    print(\"reject null hypothesis\")\n",
    "else:\n",
    "    print(\"accept null hypothesis\")"
   ]
  },
  {
   "cell_type": "markdown",
   "id": "14ffe797",
   "metadata": {},
   "source": [
    "### means sample mean is equal to population mean"
   ]
  },
  {
   "cell_type": "markdown",
   "id": "7f2d3ccd",
   "metadata": {},
   "source": [
    "#### one sample z test \n",
    "\n",
    "Let  \n",
    "     \n",
    "     Ho:  population mean =156 = sample mean\n",
    "\n",
    "     Ha:  population mean< 156"
   ]
  },
  {
   "cell_type": "code",
   "execution_count": 13,
   "id": "69c635db",
   "metadata": {},
   "outputs": [
    {
     "name": "stdout",
     "output_type": "stream",
     "text": [
      "0.5549450020552905 0.1381650250810727\n",
      "accept null hypothesis\n"
     ]
    }
   ],
   "source": [
    "zcal,pval=ztest(s1,value=156,alternative=\"smaller\")## smaller  means left  tail\n",
    "print(pval,zcal)\n",
    "if pval<0.05:\n",
    "    print(\"reject null hypothesis\")\n",
    "else:\n",
    "    print(\"accept null hypothesis\")"
   ]
  },
  {
   "cell_type": "markdown",
   "id": "60410a0e",
   "metadata": {},
   "source": [
    "### means sample mean is equal to population mean"
   ]
  },
  {
   "cell_type": "markdown",
   "id": "8b971cef",
   "metadata": {},
   "source": [
    "#### COMPUTE CI"
   ]
  },
  {
   "cell_type": "code",
   "execution_count": 14,
   "id": "c7aa1da1",
   "metadata": {},
   "outputs": [
    {
     "name": "stdout",
     "output_type": "stream",
     "text": [
      "confidence interval is  156.0 156.5\n"
     ]
    }
   ],
   "source": [
    "lower_limit=s1.mean()-zcal*(s1.std()/np.sqrt(40))\n",
    "upper_limit=s1.mean()+zcal*(s1.std()/np.sqrt(40))\n",
    "print(\"confidence interval is \",lower_limit,upper_limit)"
   ]
  },
  {
   "cell_type": "markdown",
   "id": "3de9efcf",
   "metadata": {},
   "source": [
    "## two sample z test"
   ]
  },
  {
   "cell_type": "code",
   "execution_count": 15,
   "id": "a56d29ff",
   "metadata": {},
   "outputs": [
    {
     "data": {
      "text/plain": [
       "156.25"
      ]
     },
     "execution_count": 15,
     "metadata": {},
     "output_type": "execute_result"
    }
   ],
   "source": [
    "s1=df[\"bp_before\"][0:40]  ## taking one sample =s1\n",
    "s1.mean()"
   ]
  },
  {
   "cell_type": "code",
   "execution_count": 16,
   "id": "f012d934",
   "metadata": {},
   "outputs": [
    {
     "data": {
      "text/plain": [
       "151.35833333333332"
      ]
     },
     "execution_count": 16,
     "metadata": {},
     "output_type": "execute_result"
    }
   ],
   "source": [
    "s2=df[\"bp_after\"][0:40]\n",
    "s2=df[\"bp_after\"].mean() ### taking second sample =s2\n",
    "s2"
   ]
  },
  {
   "cell_type": "markdown",
   "id": "8bc52f32",
   "metadata": {},
   "source": [
    "Let \n",
    "\n",
    "Ho= S1-S2=0 MEANS both sample mean are equal\n",
    "\n",
    "\n",
    "Ha= s1-s2 !=0  means there is s significant difference bewteen two samples"
   ]
  },
  {
   "cell_type": "code",
   "execution_count": 17,
   "id": "01f094a5",
   "metadata": {},
   "outputs": [
    {
     "name": "stdout",
     "output_type": "stream",
     "text": [
      "1.4367589369629403 0.15078650190868437\n",
      "accept null hypothesis\n"
     ]
    }
   ],
   "source": [
    "### rifgt tail\n",
    "\n",
    "zcal1,pval=ztest(s1,df[\"bp_after\"][0:40],value=0,alternative=\"two-sided\") ### value : significant difference is 0\n",
    "print(zcal1,pval) \n",
    "if pval<0.05:\n",
    "    print(\"reject null hypothesis\")\n",
    "else:\n",
    "    print(\"accept null hypothesis\")"
   ]
  },
  {
   "cell_type": "code",
   "execution_count": 18,
   "id": "a4490b67",
   "metadata": {},
   "outputs": [
    {
     "name": "stdout",
     "output_type": "stream",
     "text": [
      "-1.8286022834073745 0.06745921038772974\n",
      "accept null hypothesis\n"
     ]
    }
   ],
   "source": [
    "zcal1,pval=ztest(s1,df[\"bp_after\"][0:40],value=10,alternative=\"two-sided\") ### value : significant difference is 10\n",
    "print(zcal1,pval)\n",
    "if pval<0.05:\n",
    "    print(\"reject null hypothesis\")\n",
    "else:\n",
    "    print(\"accept null hypothesis\")"
   ]
  },
  {
   "cell_type": "code",
   "execution_count": 19,
   "id": "1445e85c",
   "metadata": {},
   "outputs": [
    {
     "name": "stdout",
     "output_type": "stream",
     "text": [
      "-1.9918703444258903 0.04638528553485794\n",
      "reject null hypothesis\n"
     ]
    }
   ],
   "source": [
    "zcal1,pval=ztest(s1,df[\"bp_after\"][0:40],value=10.5,alternative=\"two-sided\") ### value : significant difference is 10.5\n",
    "print(zcal1,pval)\n",
    "if pval<0.05:\n",
    "    print(\"reject null hypothesis\")\n",
    "else:\n",
    "    print(\"accept null hypothesis\")"
   ]
  },
  {
   "cell_type": "code",
   "execution_count": 20,
   "id": "51eaee49",
   "metadata": {},
   "outputs": [
    {
     "name": "stdout",
     "output_type": "stream",
     "text": [
      "-2.155138405444406 0.03115100514633669\n",
      "reject null hypothesis\n"
     ]
    }
   ],
   "source": [
    "zcal1,pval=ztest(s1,df[\"bp_after\"][0:40],value=11,alternative=\"two-sided\")\n",
    "print(zcal1,pval)\n",
    "if pval<0.05:\n",
    "    print(\"reject null hypothesis\")\n",
    "else:\n",
    "    print(\"accept null hypothesis\")"
   ]
  },
  {
   "cell_type": "markdown",
   "id": "d5101bce",
   "metadata": {},
   "source": [
    "### in above two sample test  value of values 0,10,10.5 (till 10.5 ) it treats no difference between two sample means and accepted Ho after that 10.5 it treats significantly difference"
   ]
  },
  {
   "cell_type": "markdown",
   "id": "3b59ef06",
   "metadata": {},
   "source": [
    "### t-test"
   ]
  },
  {
   "cell_type": "code",
   "execution_count": 21,
   "id": "62a63b76",
   "metadata": {},
   "outputs": [
    {
     "name": "stdout",
     "output_type": "stream",
     "text": [
      "[28.7280647  31.29831665 24.42719785 26.58915624 41.90983879 32.56212548\n",
      " 22.611313   23.2751099  34.97756894 32.79679155 35.40914383 44.46271261\n",
      " 12.35165723 23.56885664 45.46344027 42.30478941 38.09446955 37.53753748\n",
      " 34.98767536 25.56393415 23.32711986 23.72378115 40.13315685 44.11807021\n",
      " 17.91967558 38.29755748 30.85840004 26.80791888 35.22564629 11.35952864\n",
      " 39.72127772 29.76640955 41.90493549 35.24058652 30.30425005 42.75536346\n",
      " 34.91838365 34.87355344 16.89750289 39.42801313 33.79621301 25.76692571\n",
      " 34.69905397 29.626873   27.29182523 28.3917855  41.41322318 30.66840486\n",
      " 41.16886971 26.51292768 31.00579944 38.9311534  47.16585283 42.75418176\n",
      " 29.25776107 31.2105834  40.78088752 38.76552322 18.34522333 24.19214992\n",
      " 20.17806301 28.43978239 30.47809369 26.93533352 31.32906384 26.5090222\n",
      " 34.02144652 28.17183988 13.02688283 28.57998386 16.21348957 17.92560563\n",
      " 25.44503234 20.20287023 36.19711853  4.87914483 33.79654143 22.76535027\n",
      " 26.57433339 30.60690584 35.14121601 35.12338946 28.29593525 28.85142687\n",
      " 25.36784302 29.75879284 32.45253689 24.14674595 25.87414813 29.58926408\n",
      " 26.32558581 33.24786834 51.77970177 26.38328632 40.43341709 28.19563971\n",
      " 37.03290742 31.48958465 26.02057269 22.32661197]\n",
      "[29, 31, 24, 27, 42, 33, 23, 23, 35, 33, 35, 44, 12, 24, 45, 42, 38, 38, 35, 26, 23, 24, 40, 44, 18, 38, 31, 27, 35, 11, 40, 30, 42, 35, 30, 43, 35, 35, 17, 39, 34, 26, 35, 30, 27, 28, 41, 31, 41, 27, 31, 39, 47, 43, 29, 31, 41, 39, 18, 24, 20, 28, 30, 27, 31, 27, 34, 28, 13, 29, 16, 18, 25, 20, 36, 5, 34, 23, 27, 31, 35, 35, 28, 29, 25, 30, 32, 24, 26, 30, 26, 33, 52, 26, 40, 28, 37, 31, 26, 22] \n",
      "\n",
      "30.55\n",
      "30.0\n",
      "100\n",
      "[24 24 26 30 25 26 47 23 43 40]\n",
      "30.8\n"
     ]
    }
   ],
   "source": [
    "from scipy.stats import ttest_1samp\n",
    "import numpy as np\n",
    "data=np.random.normal(loc=30,scale=8,size=100) #create data set which contains random 100 values that follows normal distribution , here loc is mean, scale is std\n",
    "l=[]\n",
    "print(data)\n",
    "for i in data:\n",
    "    l.append(int(round(i,0))) ##  0 rounds to nearest integer\n",
    "print(l,\"\\n\")\n",
    "print(np.mean(l))\n",
    "print(np.median(l))\n",
    "print(len(l))\n",
    "###lets take a sample\n",
    "l=np.array(l) ### converting list to arrays\n",
    "sample_size=10  ## taking sample size is less than 30 for t test\n",
    "age_sample=np.random.choice(l,sample_size)  ### it picks 10 samples random(The np.random.choice() is a Numpy library function that generates random numbers from a one-dimensional array.)\n",
    "print(age_sample)\n",
    "print(age_sample.mean())"
   ]
  },
  {
   "cell_type": "markdown",
   "id": "5a14fa7e",
   "metadata": {},
   "source": [
    "let \n",
    "\n",
    "Ho= population mean =np.mean(l)\n",
    "\n",
    "\n",
    "Ha=population mean > np.mean(l)  # right tail"
   ]
  },
  {
   "cell_type": "code",
   "execution_count": 22,
   "id": "69b828b7",
   "metadata": {},
   "outputs": [
    {
     "name": "stdout",
     "output_type": "stream",
     "text": [
      "0.08780491983578381 0.9319543910317497\n",
      "reject null hypothesis\n"
     ]
    }
   ],
   "source": [
    "ttest,p_value=ttest_1samp(age_sample,np.mean(l)) ## here np.mean(l) is considered as population mean  for null hypothesis\n",
    "print(ttest,p_value)\n",
    "if p_value<0.05:\n",
    "    print(\"reject null hypothesis\")\n",
    "else :\n",
    "    print(\"reject null hypothesis\")"
   ]
  },
  {
   "cell_type": "markdown",
   "id": "13a4f76a",
   "metadata": {},
   "source": [
    "## chi square test"
   ]
  },
  {
   "cell_type": "code",
   "execution_count": 23,
   "id": "69a15d83",
   "metadata": {},
   "outputs": [],
   "source": [
    "import seaborn as sns\n",
    "df=sns.load_dataset(\"tips\")"
   ]
  },
  {
   "cell_type": "markdown",
   "id": "7e4ad0d4",
   "metadata": {},
   "source": [
    "### observation table"
   ]
  },
  {
   "cell_type": "code",
   "execution_count": 25,
   "id": "a1abef87",
   "metadata": {},
   "outputs": [
    {
     "name": "stdout",
     "output_type": "stream",
     "text": [
      "smoker  Yes  No\n",
      "sex            \n",
      "Male     60  97\n",
      "Female   33  54\n"
     ]
    }
   ],
   "source": [
    "dataset_table=pd.crosstab(df[\"sex\"],df[\"smoker\"])# create observation table\n",
    "print(dataset_table)"
   ]
  },
  {
   "cell_type": "code",
   "execution_count": 26,
   "id": "67eb62be",
   "metadata": {},
   "outputs": [
    {
     "data": {
      "text/plain": [
       "array([[60, 97],\n",
       "       [33, 54]], dtype=int64)"
      ]
     },
     "execution_count": 26,
     "metadata": {},
     "output_type": "execute_result"
    }
   ],
   "source": [
    "dataset_table.values"
   ]
  },
  {
   "cell_type": "markdown",
   "id": "5f59917d",
   "metadata": {},
   "source": [
    "#### Ho: There is no difference between twa categorical columns (smoker and sex are independent)\n",
    "#### Ha: there is a relationship between sex and smoker "
   ]
  },
  {
   "cell_type": "code",
   "execution_count": 38,
   "id": "aca4bccd",
   "metadata": {},
   "outputs": [
    {
     "data": {
      "text/plain": [
       "(0.0,\n",
       " 1.0,\n",
       " 1,\n",
       " array([[59.84016393, 97.15983607],\n",
       "        [33.15983607, 53.84016393]]))"
      ]
     },
     "execution_count": 38,
     "metadata": {},
     "output_type": "execute_result"
    }
   ],
   "source": [
    "val=scipy.stats.chi2_contingency(dataset_table) ### in backend it calculates all the computation like expected values etc\n",
    "val\n"
   ]
  },
  {
   "cell_type": "markdown",
   "id": "f59fb2ac",
   "metadata": {},
   "source": [
    "above output means:\n",
    "\n",
    "0.0 is chi calculated\n",
    "1.0 is p value\n",
    "1 is degree freedom\n",
    "\n"
   ]
  },
  {
   "cell_type": "code",
   "execution_count": 39,
   "id": "44b48ac3",
   "metadata": {},
   "outputs": [
    {
     "name": "stdout",
     "output_type": "stream",
     "text": [
      "accept null: there is no relationship between smoker and sex\n"
     ]
    }
   ],
   "source": [
    "if val[1]<0.05:\n",
    "    print(\"reject Null : there is relationship between smoker and sex\")\n",
    "else:\n",
    "    print(\"accept null: there is no relationship between smoker and sex\")"
   ]
  },
  {
   "cell_type": "markdown",
   "id": "5096dc6c",
   "metadata": {},
   "source": [
    "### anova test"
   ]
  },
  {
   "cell_type": "code",
   "execution_count": 40,
   "id": "a285aa64",
   "metadata": {},
   "outputs": [
    {
     "data": {
      "text/html": [
       "<div>\n",
       "<style scoped>\n",
       "    .dataframe tbody tr th:only-of-type {\n",
       "        vertical-align: middle;\n",
       "    }\n",
       "\n",
       "    .dataframe tbody tr th {\n",
       "        vertical-align: top;\n",
       "    }\n",
       "\n",
       "    .dataframe thead th {\n",
       "        text-align: right;\n",
       "    }\n",
       "</style>\n",
       "<table border=\"1\" class=\"dataframe\">\n",
       "  <thead>\n",
       "    <tr style=\"text-align: right;\">\n",
       "      <th></th>\n",
       "      <th>sepal_length</th>\n",
       "      <th>sepal_width</th>\n",
       "      <th>petal_length</th>\n",
       "      <th>petal_width</th>\n",
       "      <th>species</th>\n",
       "    </tr>\n",
       "  </thead>\n",
       "  <tbody>\n",
       "    <tr>\n",
       "      <th>0</th>\n",
       "      <td>5.1</td>\n",
       "      <td>3.5</td>\n",
       "      <td>1.4</td>\n",
       "      <td>0.2</td>\n",
       "      <td>setosa</td>\n",
       "    </tr>\n",
       "    <tr>\n",
       "      <th>1</th>\n",
       "      <td>4.9</td>\n",
       "      <td>3.0</td>\n",
       "      <td>1.4</td>\n",
       "      <td>0.2</td>\n",
       "      <td>setosa</td>\n",
       "    </tr>\n",
       "    <tr>\n",
       "      <th>2</th>\n",
       "      <td>4.7</td>\n",
       "      <td>3.2</td>\n",
       "      <td>1.3</td>\n",
       "      <td>0.2</td>\n",
       "      <td>setosa</td>\n",
       "    </tr>\n",
       "    <tr>\n",
       "      <th>3</th>\n",
       "      <td>4.6</td>\n",
       "      <td>3.1</td>\n",
       "      <td>1.5</td>\n",
       "      <td>0.2</td>\n",
       "      <td>setosa</td>\n",
       "    </tr>\n",
       "    <tr>\n",
       "      <th>4</th>\n",
       "      <td>5.0</td>\n",
       "      <td>3.6</td>\n",
       "      <td>1.4</td>\n",
       "      <td>0.2</td>\n",
       "      <td>setosa</td>\n",
       "    </tr>\n",
       "    <tr>\n",
       "      <th>...</th>\n",
       "      <td>...</td>\n",
       "      <td>...</td>\n",
       "      <td>...</td>\n",
       "      <td>...</td>\n",
       "      <td>...</td>\n",
       "    </tr>\n",
       "    <tr>\n",
       "      <th>145</th>\n",
       "      <td>6.7</td>\n",
       "      <td>3.0</td>\n",
       "      <td>5.2</td>\n",
       "      <td>2.3</td>\n",
       "      <td>virginica</td>\n",
       "    </tr>\n",
       "    <tr>\n",
       "      <th>146</th>\n",
       "      <td>6.3</td>\n",
       "      <td>2.5</td>\n",
       "      <td>5.0</td>\n",
       "      <td>1.9</td>\n",
       "      <td>virginica</td>\n",
       "    </tr>\n",
       "    <tr>\n",
       "      <th>147</th>\n",
       "      <td>6.5</td>\n",
       "      <td>3.0</td>\n",
       "      <td>5.2</td>\n",
       "      <td>2.0</td>\n",
       "      <td>virginica</td>\n",
       "    </tr>\n",
       "    <tr>\n",
       "      <th>148</th>\n",
       "      <td>6.2</td>\n",
       "      <td>3.4</td>\n",
       "      <td>5.4</td>\n",
       "      <td>2.3</td>\n",
       "      <td>virginica</td>\n",
       "    </tr>\n",
       "    <tr>\n",
       "      <th>149</th>\n",
       "      <td>5.9</td>\n",
       "      <td>3.0</td>\n",
       "      <td>5.1</td>\n",
       "      <td>1.8</td>\n",
       "      <td>virginica</td>\n",
       "    </tr>\n",
       "  </tbody>\n",
       "</table>\n",
       "<p>150 rows × 5 columns</p>\n",
       "</div>"
      ],
      "text/plain": [
       "     sepal_length  sepal_width  petal_length  petal_width    species\n",
       "0             5.1          3.5           1.4          0.2     setosa\n",
       "1             4.9          3.0           1.4          0.2     setosa\n",
       "2             4.7          3.2           1.3          0.2     setosa\n",
       "3             4.6          3.1           1.5          0.2     setosa\n",
       "4             5.0          3.6           1.4          0.2     setosa\n",
       "..            ...          ...           ...          ...        ...\n",
       "145           6.7          3.0           5.2          2.3  virginica\n",
       "146           6.3          2.5           5.0          1.9  virginica\n",
       "147           6.5          3.0           5.2          2.0  virginica\n",
       "148           6.2          3.4           5.4          2.3  virginica\n",
       "149           5.9          3.0           5.1          1.8  virginica\n",
       "\n",
       "[150 rows x 5 columns]"
      ]
     },
     "execution_count": 40,
     "metadata": {},
     "output_type": "execute_result"
    }
   ],
   "source": [
    "import seaborn as sns\n",
    "df1=sns.load_dataset(\"iris\")\n",
    "df1"
   ]
  },
  {
   "cell_type": "code",
   "execution_count": 41,
   "id": "736f85a9",
   "metadata": {},
   "outputs": [
    {
     "data": {
      "text/plain": [
       "species\n",
       "setosa        0.246\n",
       "versicolor    1.326\n",
       "virginica     2.026\n",
       "Name: petal_width, dtype: float64"
      ]
     },
     "execution_count": 41,
     "metadata": {},
     "output_type": "execute_result"
    }
   ],
   "source": [
    "df1.groupby([\"species\"])[\"petal_width\"].agg(\"mean\")"
   ]
  },
  {
   "cell_type": "code",
   "execution_count": 42,
   "id": "86ef0ab7",
   "metadata": {},
   "outputs": [
    {
     "data": {
      "text/html": [
       "<div>\n",
       "<style scoped>\n",
       "    .dataframe tbody tr th:only-of-type {\n",
       "        vertical-align: middle;\n",
       "    }\n",
       "\n",
       "    .dataframe tbody tr th {\n",
       "        vertical-align: top;\n",
       "    }\n",
       "\n",
       "    .dataframe thead th {\n",
       "        text-align: right;\n",
       "    }\n",
       "</style>\n",
       "<table border=\"1\" class=\"dataframe\">\n",
       "  <thead>\n",
       "    <tr style=\"text-align: right;\">\n",
       "      <th></th>\n",
       "      <th>petal_width</th>\n",
       "      <th>species</th>\n",
       "    </tr>\n",
       "  </thead>\n",
       "  <tbody>\n",
       "    <tr>\n",
       "      <th>0</th>\n",
       "      <td>0.2</td>\n",
       "      <td>setosa</td>\n",
       "    </tr>\n",
       "    <tr>\n",
       "      <th>1</th>\n",
       "      <td>0.2</td>\n",
       "      <td>setosa</td>\n",
       "    </tr>\n",
       "    <tr>\n",
       "      <th>2</th>\n",
       "      <td>0.2</td>\n",
       "      <td>setosa</td>\n",
       "    </tr>\n",
       "    <tr>\n",
       "      <th>3</th>\n",
       "      <td>0.2</td>\n",
       "      <td>setosa</td>\n",
       "    </tr>\n",
       "    <tr>\n",
       "      <th>4</th>\n",
       "      <td>0.2</td>\n",
       "      <td>setosa</td>\n",
       "    </tr>\n",
       "    <tr>\n",
       "      <th>...</th>\n",
       "      <td>...</td>\n",
       "      <td>...</td>\n",
       "    </tr>\n",
       "    <tr>\n",
       "      <th>145</th>\n",
       "      <td>2.3</td>\n",
       "      <td>virginica</td>\n",
       "    </tr>\n",
       "    <tr>\n",
       "      <th>146</th>\n",
       "      <td>1.9</td>\n",
       "      <td>virginica</td>\n",
       "    </tr>\n",
       "    <tr>\n",
       "      <th>147</th>\n",
       "      <td>2.0</td>\n",
       "      <td>virginica</td>\n",
       "    </tr>\n",
       "    <tr>\n",
       "      <th>148</th>\n",
       "      <td>2.3</td>\n",
       "      <td>virginica</td>\n",
       "    </tr>\n",
       "    <tr>\n",
       "      <th>149</th>\n",
       "      <td>1.8</td>\n",
       "      <td>virginica</td>\n",
       "    </tr>\n",
       "  </tbody>\n",
       "</table>\n",
       "<p>150 rows × 2 columns</p>\n",
       "</div>"
      ],
      "text/plain": [
       "     petal_width    species\n",
       "0            0.2     setosa\n",
       "1            0.2     setosa\n",
       "2            0.2     setosa\n",
       "3            0.2     setosa\n",
       "4            0.2     setosa\n",
       "..           ...        ...\n",
       "145          2.3  virginica\n",
       "146          1.9  virginica\n",
       "147          2.0  virginica\n",
       "148          2.3  virginica\n",
       "149          1.8  virginica\n",
       "\n",
       "[150 rows x 2 columns]"
      ]
     },
     "execution_count": 42,
     "metadata": {},
     "output_type": "execute_result"
    }
   ],
   "source": [
    "df_anova=df1[[\"petal_width\",\"species\"]]\n",
    "df_anova"
   ]
  },
  {
   "cell_type": "code",
   "execution_count": 43,
   "id": "c8781e4f",
   "metadata": {},
   "outputs": [
    {
     "data": {
      "text/plain": [
       "array(['setosa', 'versicolor', 'virginica'], dtype=object)"
      ]
     },
     "execution_count": 43,
     "metadata": {},
     "output_type": "execute_result"
    }
   ],
   "source": [
    "df_anova[\"species\"].unique()"
   ]
  },
  {
   "cell_type": "markdown",
   "id": "c0dc7ae8",
   "metadata": {},
   "source": [
    "or"
   ]
  },
  {
   "cell_type": "code",
   "execution_count": 44,
   "id": "f2a3267b",
   "metadata": {},
   "outputs": [
    {
     "data": {
      "text/plain": [
       "array(['setosa', 'versicolor', 'virginica'], dtype=object)"
      ]
     },
     "execution_count": 44,
     "metadata": {},
     "output_type": "execute_result"
    }
   ],
   "source": [
    "grps=pd.unique(df_anova.species.values)\n",
    "grps"
   ]
  },
  {
   "cell_type": "code",
   "execution_count": 34,
   "id": "f3d8b8d2",
   "metadata": {},
   "outputs": [
    {
     "data": {
      "text/plain": [
       "{'setosa': 0     0.2\n",
       " 1     0.2\n",
       " 2     0.2\n",
       " 3     0.2\n",
       " 4     0.2\n",
       " 5     0.4\n",
       " 6     0.3\n",
       " 7     0.2\n",
       " 8     0.2\n",
       " 9     0.1\n",
       " 10    0.2\n",
       " 11    0.2\n",
       " 12    0.1\n",
       " 13    0.1\n",
       " 14    0.2\n",
       " 15    0.4\n",
       " 16    0.4\n",
       " 17    0.3\n",
       " 18    0.3\n",
       " 19    0.3\n",
       " 20    0.2\n",
       " 21    0.4\n",
       " 22    0.2\n",
       " 23    0.5\n",
       " 24    0.2\n",
       " 25    0.2\n",
       " 26    0.4\n",
       " 27    0.2\n",
       " 28    0.2\n",
       " 29    0.2\n",
       " 30    0.2\n",
       " 31    0.4\n",
       " 32    0.1\n",
       " 33    0.2\n",
       " 34    0.2\n",
       " 35    0.2\n",
       " 36    0.2\n",
       " 37    0.1\n",
       " 38    0.2\n",
       " 39    0.2\n",
       " 40    0.3\n",
       " 41    0.3\n",
       " 42    0.2\n",
       " 43    0.6\n",
       " 44    0.4\n",
       " 45    0.3\n",
       " 46    0.2\n",
       " 47    0.2\n",
       " 48    0.2\n",
       " 49    0.2\n",
       " Name: petal_width, dtype: float64,\n",
       " 'versicolor': 50    1.4\n",
       " 51    1.5\n",
       " 52    1.5\n",
       " 53    1.3\n",
       " 54    1.5\n",
       " 55    1.3\n",
       " 56    1.6\n",
       " 57    1.0\n",
       " 58    1.3\n",
       " 59    1.4\n",
       " 60    1.0\n",
       " 61    1.5\n",
       " 62    1.0\n",
       " 63    1.4\n",
       " 64    1.3\n",
       " 65    1.4\n",
       " 66    1.5\n",
       " 67    1.0\n",
       " 68    1.5\n",
       " 69    1.1\n",
       " 70    1.8\n",
       " 71    1.3\n",
       " 72    1.5\n",
       " 73    1.2\n",
       " 74    1.3\n",
       " 75    1.4\n",
       " 76    1.4\n",
       " 77    1.7\n",
       " 78    1.5\n",
       " 79    1.0\n",
       " 80    1.1\n",
       " 81    1.0\n",
       " 82    1.2\n",
       " 83    1.6\n",
       " 84    1.5\n",
       " 85    1.6\n",
       " 86    1.5\n",
       " 87    1.3\n",
       " 88    1.3\n",
       " 89    1.3\n",
       " 90    1.2\n",
       " 91    1.4\n",
       " 92    1.2\n",
       " 93    1.0\n",
       " 94    1.3\n",
       " 95    1.2\n",
       " 96    1.3\n",
       " 97    1.3\n",
       " 98    1.1\n",
       " 99    1.3\n",
       " Name: petal_width, dtype: float64,\n",
       " 'virginica': 100    2.5\n",
       " 101    1.9\n",
       " 102    2.1\n",
       " 103    1.8\n",
       " 104    2.2\n",
       " 105    2.1\n",
       " 106    1.7\n",
       " 107    1.8\n",
       " 108    1.8\n",
       " 109    2.5\n",
       " 110    2.0\n",
       " 111    1.9\n",
       " 112    2.1\n",
       " 113    2.0\n",
       " 114    2.4\n",
       " 115    2.3\n",
       " 116    1.8\n",
       " 117    2.2\n",
       " 118    2.3\n",
       " 119    1.5\n",
       " 120    2.3\n",
       " 121    2.0\n",
       " 122    2.0\n",
       " 123    1.8\n",
       " 124    2.1\n",
       " 125    1.8\n",
       " 126    1.8\n",
       " 127    1.8\n",
       " 128    2.1\n",
       " 129    1.6\n",
       " 130    1.9\n",
       " 131    2.0\n",
       " 132    2.2\n",
       " 133    1.5\n",
       " 134    1.4\n",
       " 135    2.3\n",
       " 136    2.4\n",
       " 137    1.8\n",
       " 138    1.8\n",
       " 139    2.1\n",
       " 140    2.4\n",
       " 141    2.3\n",
       " 142    1.9\n",
       " 143    2.3\n",
       " 144    2.5\n",
       " 145    2.3\n",
       " 146    1.9\n",
       " 147    2.0\n",
       " 148    2.3\n",
       " 149    1.8\n",
       " Name: petal_width, dtype: float64}"
      ]
     },
     "execution_count": 34,
     "metadata": {},
     "output_type": "execute_result"
    }
   ],
   "source": [
    "d_data={grp:df_anova[\"petal_width\"][df_anova.species==grp] for grp in grps}\n",
    "d_data"
   ]
  },
  {
   "cell_type": "markdown",
   "id": "cd8a62f4",
   "metadata": {},
   "source": [
    "Let \n",
    "\n",
    "Ho: There is no difference between petal width mean of setosa,versicolor,virginica categories of species.\n",
    "\n",
    "H1: There is difference between petal width mean of setosa,versicolor,virginica categories of species."
   ]
  },
  {
   "cell_type": "code",
   "execution_count": 45,
   "id": "8b625b18",
   "metadata": {},
   "outputs": [
    {
     "name": "stdout",
     "output_type": "stream",
     "text": [
      "960.007146801809 4.169445839443116e-85\n",
      "0.0\n"
     ]
    }
   ],
   "source": [
    "fcal,p=scipy.stats.f_oneway(d_data[\"setosa\"],d_data[\"versicolor\"],d_data[\"virginica\"])\n",
    "print(fcal,p)\n",
    "print(round(p,2))"
   ]
  },
  {
   "cell_type": "code",
   "execution_count": 48,
   "id": "cbf7738b",
   "metadata": {},
   "outputs": [
    {
     "name": "stdout",
     "output_type": "stream",
     "text": [
      "reject null\n"
     ]
    }
   ],
   "source": [
    "if p<0.05:\n",
    "    print(\"reject null\") #ho is there is no difference between petal width mean of setosa,versicolor,virginica categories of species.\n",
    "    "
   ]
  },
  {
   "cell_type": "code",
   "execution_count": null,
   "id": "2ffeee6f",
   "metadata": {},
   "outputs": [],
   "source": []
  }
 ],
 "metadata": {
  "kernelspec": {
   "display_name": "Python 3 (ipykernel)",
   "language": "python",
   "name": "python3"
  },
  "language_info": {
   "codemirror_mode": {
    "name": "ipython",
    "version": 3
   },
   "file_extension": ".py",
   "mimetype": "text/x-python",
   "name": "python",
   "nbconvert_exporter": "python",
   "pygments_lexer": "ipython3",
   "version": "3.9.7"
  }
 },
 "nbformat": 4,
 "nbformat_minor": 5
}
